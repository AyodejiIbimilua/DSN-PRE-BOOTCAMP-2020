{
 "cells": [
  {
   "cell_type": "code",
   "execution_count": 11,
   "metadata": {},
   "outputs": [],
   "source": [
    "#import needed libraries\n",
    "import numpy as np\n",
    "import pandas as pd\n",
    "import random\n",
    "from collections import Counter\n",
    "import warnings\n",
    "from math import sqrt"
   ]
  },
  {
   "cell_type": "code",
   "execution_count": 12,
   "metadata": {},
   "outputs": [
    {
     "output_type": "execute_result",
     "data": {
      "text/plain": "[[30, 'o'], [1000, 'd']]"
     },
     "metadata": {},
     "execution_count": 12
    }
   ],
   "source": [
    "d = [[1000, \"d\"], [3000, \"o\"], [104400, \"d\"], [300550, \"o\"], [10040, \"d\"], [30, \"o\"]]\n",
    "sorted(d)[:2]"
   ]
  },
  {
   "cell_type": "code",
   "execution_count": 13,
   "metadata": {},
   "outputs": [],
   "source": [
    "#defines the function that manually calculates the highest voted class\n",
    "def k_nearest_neigbors(data, predict, k=3):\n",
    "\n",
    "    if len(data) >= k:\n",
    "        warnings.warn(\"K is set to a value less than total voting groups\")\n",
    "\n",
    "    distances = []\n",
    "    for group in data:\n",
    "        for features in data[group]:\n",
    "            euclidean_distance = np.linalg.norm(np.array(features) - np.array(predict))\n",
    "            distances.append([euclidean_distance, group])\n",
    "            \n",
    "    votes = [i[1] for i in sorted(distances)[:k]]\n",
    "    vote_result = Counter(votes).most_common(1) [0][0]\n",
    "    confidence = Counter(votes).most_common(1) [0][1] / k\n",
    "    return vote_result, confidence"
   ]
  },
  {
   "cell_type": "code",
   "execution_count": 14,
   "metadata": {
    "tags": []
   },
   "outputs": [
    {
     "output_type": "stream",
     "name": "stdout",
     "text": "Accuracy: 0.935251798561151\nAccuracy: 0.9712230215827338\nAccuracy: 0.9784172661870504\nAccuracy: 0.9784172661870504\nAccuracy: 0.9640287769784173\nAccuracy: 0.9784172661870504\nAccuracy: 0.9784172661870504\nAccuracy: 0.9784172661870504\nAccuracy: 0.9496402877697842\nAccuracy: 0.9712230215827338\nAccuracy: 0.9712230215827338\nAccuracy: 0.935251798561151\nAccuracy: 0.9928057553956835\nAccuracy: 0.9496402877697842\nAccuracy: 0.9928057553956835\nAccuracy: 0.9424460431654677\nAccuracy: 0.9784172661870504\nAccuracy: 0.9496402877697842\nAccuracy: 0.9784172661870504\nAccuracy: 0.9496402877697842\nAccuracy: 0.9856115107913669\nAccuracy: 0.9568345323741008\nAccuracy: 0.9712230215827338\nAccuracy: 0.9568345323741008\nAccuracy: 0.9496402877697842\n"
    }
   ],
   "source": [
    "accuracies = []\n",
    "for i in range(25):\n",
    "    df = pd.read_csv(\"breast-cancer-wisconsin.csv\")\n",
    "    #replace ? with -9999 in the dataset\n",
    "    df.replace(\"?\", -99999, inplace=True)\n",
    "    #drop the id column\n",
    "    df.drop([\"id\"], 1, inplace=True)\n",
    "    #converts the dataset type to float in each column\n",
    "    full_data = df.astype(\"float\").values.tolist()\n",
    "\n",
    "    #shuffles the dataset randomly\n",
    "    random.shuffle(full_data)\n",
    "\n",
    "    test_size = 0.2\n",
    "    #creates a formats that matches our created function\n",
    "    train_set = {2: [], 4: []}\n",
    "    test_set = {2: [], 4: []}\n",
    "\n",
    "    #selects train and test set from the data\n",
    "    train_data = full_data[:-int(test_size * len(full_data))]\n",
    "    test_data = full_data[-int(test_size * len(full_data)):]\n",
    "\n",
    "\n",
    "    for i in train_data:\n",
    "        train_set[i[-1]].append(i[:-1])\n",
    "\n",
    "    for i in test_data:\n",
    "        test_set[i[-1]].append(i[:-1])\n",
    "\n",
    "    correct = 0\n",
    "    total = 0\n",
    "\n",
    "    for group in test_set:\n",
    "        for data in test_set[group]:\n",
    "            vote, confidence = k_nearest_neigbors(train_set, data, k=5)\n",
    "            if group == vote:\n",
    "                correct +=1\n",
    "            total +=1\n",
    "\n",
    "    # print(\"Accuracy:\", correct/total)\n",
    "    accuracies.append(correct/total)"
   ]
  },
  {
   "cell_type": "code",
   "execution_count": 16,
   "metadata": {
    "tags": []
   },
   "outputs": [
    {
     "output_type": "stream",
     "name": "stdout",
     "text": "0.9657553956834534\n"
    }
   ],
   "source": [
    "print(sum(accuracies) / len(accuracies))"
   ]
  },
  {
   "cell_type": "code",
   "execution_count": null,
   "metadata": {},
   "outputs": [],
   "source": []
  },
  {
   "cell_type": "code",
   "execution_count": null,
   "metadata": {},
   "outputs": [],
   "source": []
  }
 ],
 "metadata": {
  "language_info": {
   "codemirror_mode": {
    "name": "ipython",
    "version": 3
   },
   "file_extension": ".py",
   "mimetype": "text/x-python",
   "name": "python",
   "nbconvert_exporter": "python",
   "pygments_lexer": "ipython3",
   "version": 3
  },
  "orig_nbformat": 2,
  "kernelspec": {
   "name": "python_defaultSpec_1595192639232",
   "display_name": "Python 3.6.10 64-bit ('raspy': conda)"
  }
 },
 "nbformat": 4,
 "nbformat_minor": 2
}